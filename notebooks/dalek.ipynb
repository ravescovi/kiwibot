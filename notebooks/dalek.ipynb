{
 "metadata": {
  "language_info": {
   "codemirror_mode": {
    "name": "ipython",
    "version": 3
   },
   "file_extension": ".py",
   "mimetype": "text/x-python",
   "name": "python",
   "nbconvert_exporter": "python",
   "pygments_lexer": "ipython3",
   "version": "3.8.5"
  },
  "orig_nbformat": 2,
  "kernelspec": {
   "name": "python3",
   "display_name": "Python 3.8.5 64-bit ('base': conda)"
  },
  "interpreter": {
   "hash": "ae872624f69e1333662886b6f56d58bf2a58cd22869808144d82680e07de5fc8"
  }
 },
 "nbformat": 4,
 "nbformat_minor": 2,
 "cells": [
  {
   "cell_type": "code",
   "execution_count": 5,
   "metadata": {},
   "outputs": [],
   "source": [
    "\n",
    "from io import BytesIO\n",
    "import pyglet\n",
    "\n",
    "import getopt\n",
    "import numpy as np\n",
    "import scipy.io.wavfile as wavfile\n",
    "import math\n",
    "import sys\n",
    "\n",
    "\n"
   ]
  },
  {
   "cell_type": "code",
   "execution_count": 3,
   "metadata": {},
   "outputs": [],
   "source": [
    "from gtts import gTTS\n",
    "from time import sleep\n",
    "import os\n",
    "\n",
    "invictus = '''Out of the night that covers me, \n",
    "      Black as the pit from pole to pole,\n",
    "I thank whatever gods may be\n",
    "      For my unconquerable soul.\n",
    "\n",
    "In the fell clutch of circumstance\n",
    "      I have not winced nor cried aloud.\n",
    "Under the bludgeonings of chance\n",
    "      My head is bloody, but unbowed.\n",
    "\n",
    "Beyond this place of wrath and tears\n",
    "      Looms but the Horror of the shade,\n",
    "And yet the menace of the years\n",
    "      Finds and shall find me unafraid.\n",
    "\n",
    "It matters not how strait the gate,\n",
    "      How charged with punishments the scroll,\n",
    "I am the master of my fate,\n",
    "      I am the captain of my soul.'''\n",
    "#tts = gTTS('ExxTerrminate', lang='de')\n",
    "tts = gTTS(invictus, lang='en-uk')\n",
    "filename = 'test.mp3'\n",
    "tts.save(filename)\n",
    "#dalekify(filename)\n",
    "music = pyglet.media.load(filename, streaming=False)\n",
    "music.play()\n",
    "sleep(music.duration) #prevent from killing\n",
    "os.remove(filename) #remove temperory file"
   ]
  },
  {
   "cell_type": "code",
   "execution_count": 2,
   "metadata": {},
   "outputs": [],
   "source": [
    "\n"
   ]
  },
  {
   "cell_type": "code",
   "execution_count": 4,
   "metadata": {},
   "outputs": [],
   "source": [
    "import pyttsx3\n",
    "from robot import dalekify\n",
    "\n",
    "text = 'I am KIWIBOT!!, Exterminate, Exterminate!! EXTERMINATE!!'\n",
    "\n",
    "converter = pyttsx3.init()\n",
    "converter.setProperty('rate', 150)\n",
    "converter.setProperty('volume', 0.9)\n",
    "converter.save_to_file(text, 'kiwi.wav')\n",
    "converter.runAndWait()\n",
    "dalekify('kiwi.wav')"
   ]
  },
  {
   "cell_type": "code",
   "execution_count": 8,
   "metadata": {},
   "outputs": [],
   "source": []
  },
  {
   "cell_type": "code",
   "execution_count": null,
   "metadata": {},
   "outputs": [],
   "source": []
  }
 ]
}